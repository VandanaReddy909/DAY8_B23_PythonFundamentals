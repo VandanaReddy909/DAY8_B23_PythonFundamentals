{
 "cells": [
  {
   "cell_type": "code",
   "execution_count": 3,
   "metadata": {},
   "outputs": [],
   "source": [
    "#Continuation of dictionaries:"
   ]
  },
  {
   "cell_type": "code",
   "execution_count": 2,
   "metadata": {},
   "outputs": [
    {
     "name": "stdout",
     "output_type": "stream",
     "text": [
      "{'color': 'green', 'points': 5, 'start_position': 0, 'current_position': 10}\n"
     ]
    }
   ],
   "source": [
    "alien = {'color':'green','points':5,'start_position':0,'current_position':10}\n",
    "print(alien)"
   ]
  },
  {
   "cell_type": "code",
   "execution_count": 4,
   "metadata": {},
   "outputs": [],
   "source": [
    "#Modifying the values in a dictionary: #level2------yellow,10"
   ]
  },
  {
   "cell_type": "code",
   "execution_count": 5,
   "metadata": {},
   "outputs": [
    {
     "name": "stdout",
     "output_type": "stream",
     "text": [
      "{'color': 'yellow', 'points': 10, 'start_position': 0, 'current_position': 10}\n"
     ]
    }
   ],
   "source": [
    "alien['color'] = 'yellow'\n",
    "alien['points'] = 10\n",
    "print(alien)"
   ]
  },
  {
   "cell_type": "code",
   "execution_count": 6,
   "metadata": {},
   "outputs": [],
   "source": [
    "# Deleting key value pairs from dictionary: "
   ]
  },
  {
   "cell_type": "code",
   "execution_count": 7,
   "metadata": {},
   "outputs": [
    {
     "name": "stdout",
     "output_type": "stream",
     "text": [
      "{'color': 'yellow', 'points': 10, 'current_position': 10}\n"
     ]
    }
   ],
   "source": [
    "del alien['start_position']\n",
    "print(alien)"
   ]
  },
  {
   "cell_type": "code",
   "execution_count": 8,
   "metadata": {},
   "outputs": [],
   "source": [
    "# Introduction to looping to dictionaries : "
   ]
  },
  {
   "cell_type": "code",
   "execution_count": 24,
   "metadata": {},
   "outputs": [],
   "source": [
    "fav_languages = {'vandana':'python','vinay':'c','mainsh':'science','harish':'english','rithika':'python','mahi':'cobol'}"
   ]
  },
  {
   "cell_type": "code",
   "execution_count": 15,
   "metadata": {},
   "outputs": [],
   "source": [
    "# Normal syntax : \n",
    "\n",
    "for tempvar in mainvar:\n",
    "    print(tempvar)\n"
   ]
  },
  {
   "cell_type": "code",
   "execution_count": 14,
   "metadata": {},
   "outputs": [],
   "source": [
    "# With dict\n",
    "\n",
    "for temp1, temp2 in mainvar.items():\n",
    "    print(temp1)\n",
    "    print(temp2)"
   ]
  },
  {
   "cell_type": "code",
   "execution_count": 25,
   "metadata": {},
   "outputs": [
    {
     "name": "stdout",
     "output_type": "stream",
     "text": [
      "key: vandana\n",
      "Value: python\n",
      "key: vinay\n",
      "Value: c\n",
      "key: mainsh\n",
      "Value: science\n",
      "key: harish\n",
      "Value: english\n",
      "key: rithika\n",
      "Value: python\n",
      "key: mahi\n",
      "Value: cobol\n"
     ]
    }
   ],
   "source": [
    "for x,y in fav_languages.items():\n",
    "    print(f\"key: {x}\")\n",
    "    print(f\"Value: {y}\")"
   ]
  },
  {
   "cell_type": "code",
   "execution_count": 26,
   "metadata": {},
   "outputs": [
    {
     "name": "stdout",
     "output_type": "stream",
     "text": [
      "key: vandana\n",
      "Value: python\n",
      "\n",
      "key: vinay\n",
      "Value: c\n",
      "\n",
      "key: mainsh\n",
      "Value: science\n",
      "\n",
      "key: harish\n",
      "Value: english\n",
      "\n",
      "key: rithika\n",
      "Value: python\n",
      "\n",
      "key: mahi\n",
      "Value: cobol\n",
      "\n"
     ]
    }
   ],
   "source": [
    "for x,y in fav_languages.items():\n",
    "    print(f\"key: {x}\")\n",
    "    print(f\"Value: {y}\\n\")"
   ]
  },
  {
   "cell_type": "code",
   "execution_count": 27,
   "metadata": {},
   "outputs": [
    {
     "name": "stdout",
     "output_type": "stream",
     "text": [
      "key: Vandana\n",
      "Value: Python\n",
      "\n",
      "key: Vinay\n",
      "Value: C\n",
      "\n",
      "key: Mainsh\n",
      "Value: Science\n",
      "\n",
      "key: Harish\n",
      "Value: English\n",
      "\n",
      "key: Rithika\n",
      "Value: Python\n",
      "\n",
      "key: Mahi\n",
      "Value: Cobol\n",
      "\n"
     ]
    }
   ],
   "source": [
    "for x,y in fav_languages.items():\n",
    "    print(f\"key: {x.title()}\")\n",
    "    print(f\"Value: {y.title()}\\n\")"
   ]
  },
  {
   "cell_type": "code",
   "execution_count": 28,
   "metadata": {},
   "outputs": [
    {
     "name": "stdout",
     "output_type": "stream",
     "text": [
      "\n",
      "Student: Vandana\n",
      "\n",
      "Student: Vinay\n",
      "\n",
      "Student: Mainsh\n",
      "\n",
      "Student: Harish\n",
      "\n",
      "Student: Rithika\n",
      "\n",
      "Student: Mahi\n"
     ]
    }
   ],
   "source": [
    "# IMPORTANT : REQ : Students who have taken the survey ? - Only keys are required to retrieve\n",
    "\n",
    "\n",
    "for x in fav_languages.keys():\n",
    "    print(f\"\\nStudent: {x.title()}\")"
   ]
  },
  {
   "cell_type": "code",
   "execution_count": 29,
   "metadata": {},
   "outputs": [
    {
     "name": "stdout",
     "output_type": "stream",
     "text": [
      "\n",
      "Choices: Python\n",
      "\n",
      "Choices: C\n",
      "\n",
      "Choices: Science\n",
      "\n",
      "Choices: English\n",
      "\n",
      "Choices: Python\n",
      "\n",
      "Choices: Cobol\n"
     ]
    }
   ],
   "source": [
    "# REQ : Only values need to be retrieved :\n",
    "\n",
    "for y in fav_languages.values():\n",
    "    print(f\"\\nChoices: {y.title()}\")"
   ]
  },
  {
   "cell_type": "code",
   "execution_count": null,
   "metadata": {},
   "outputs": [],
   "source": []
  },
  {
   "cell_type": "code",
   "execution_count": null,
   "metadata": {},
   "outputs": [],
   "source": []
  },
  {
   "cell_type": "code",
   "execution_count": null,
   "metadata": {},
   "outputs": [],
   "source": []
  },
  {
   "cell_type": "code",
   "execution_count": null,
   "metadata": {},
   "outputs": [],
   "source": []
  },
  {
   "cell_type": "code",
   "execution_count": null,
   "metadata": {},
   "outputs": [],
   "source": []
  },
  {
   "cell_type": "code",
   "execution_count": null,
   "metadata": {},
   "outputs": [],
   "source": []
  }
 ],
 "metadata": {
  "kernelspec": {
   "display_name": "Python 3",
   "language": "python",
   "name": "python3"
  },
  "language_info": {
   "codemirror_mode": {
    "name": "ipython",
    "version": 3
   },
   "file_extension": ".py",
   "mimetype": "text/x-python",
   "name": "python",
   "nbconvert_exporter": "python",
   "pygments_lexer": "ipython3",
   "version": "3.7.6"
  }
 },
 "nbformat": 4,
 "nbformat_minor": 4
}
